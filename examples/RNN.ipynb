{
 "cells": [
  {
   "cell_type": "code",
   "execution_count": 1,
   "metadata": {},
   "outputs": [],
   "source": [
    "from pytorch_toolz.functools import Parallel, Reduce, Sequential\n",
    "from pytorch_toolz.operator import Apply\n",
    "from pytorch_toolz.itertools import Accumulate\n",
    "from torch import nn\n",
    "from torch.nn.parameter import Parameter\n",
    "from itertools import islice\n",
    "import torch"
   ]
  },
  {
   "attachments": {},
   "cell_type": "markdown",
   "metadata": {},
   "source": [
    "**LSTMCell.forward** takes arguments in the wrong order; to use it with reduce arguments need to be reversed:"
   ]
  },
  {
   "cell_type": "code",
   "execution_count": 2,
   "metadata": {},
   "outputs": [],
   "source": [
    "lstm_swap_args = Sequential(Apply(lambda *args: reversed(args)), nn.LSTMCell(8, 8), unpack=True)"
   ]
  },
  {
   "attachments": {},
   "cell_type": "markdown",
   "metadata": {},
   "source": [
    "A very simple RNN: reduce the incoming sequence with a single cell. To make sure that the initial cell/hidden states are learnable, pass them as nn.Parameter-s"
   ]
  },
  {
   "cell_type": "code",
   "execution_count": 3,
   "metadata": {},
   "outputs": [],
   "source": [
    "rnn = Accumulate(\n",
    "    lstm_swap_args,\n",
    "    nn.ParameterList([\n",
    "        Parameter(torch.zeros(8)),\n",
    "        Parameter(torch.zeros(8))\n",
    "    ])\n",
    ")"
   ]
  },
  {
   "attachments": {},
   "cell_type": "markdown",
   "metadata": {},
   "source": [
    "Test with a single training step"
   ]
  },
  {
   "cell_type": "code",
   "execution_count": 4,
   "metadata": {},
   "outputs": [],
   "source": [
    "opt = torch.optim.Adam(rnn.parameters())\n",
    "\n",
    "seq = torch.randn(10, 8)\n",
    "targ = torch.randn(10, 8)\n",
    "\n",
    "h_all, c_all = zip(*rnn(seq))\n",
    "output = torch.stack(h_all[1:])\n",
    "loss = nn.functional.mse_loss(output, targ)\n",
    "loss.backward()\n",
    "opt.step()"
   ]
  },
  {
   "attachments": {},
   "cell_type": "markdown",
   "metadata": {},
   "source": [
    "Check that the initial cell and hidden states have changed"
   ]
  },
  {
   "cell_type": "code",
   "execution_count": 5,
   "metadata": {},
   "outputs": [
    {
     "data": {
      "text/plain": [
       "Parameter containing:\n",
       "tensor([-0.0010,  0.0010,  0.0010, -0.0010, -0.0010,  0.0010, -0.0010,  0.0010],\n",
       "       requires_grad=True)"
      ]
     },
     "execution_count": 5,
     "metadata": {},
     "output_type": "execute_result"
    }
   ],
   "source": [
    "rnn.initial[0]"
   ]
  }
 ],
 "metadata": {
  "kernelspec": {
   "display_name": "base",
   "language": "python",
   "name": "python3"
  },
  "language_info": {
   "codemirror_mode": {
    "name": "ipython",
    "version": 3
   },
   "file_extension": ".py",
   "mimetype": "text/x-python",
   "name": "python",
   "nbconvert_exporter": "python",
   "pygments_lexer": "ipython3",
   "version": "3.9.12"
  },
  "orig_nbformat": 4
 },
 "nbformat": 4,
 "nbformat_minor": 2
}
