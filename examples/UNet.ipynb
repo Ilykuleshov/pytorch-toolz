{
 "cells": [
  {
   "attachments": {},
   "cell_type": "markdown",
   "metadata": {},
   "source": [
    "How to build a U-Net, functional-style. The idea is to store encoder outputs in tuple:\n",
    "- Encoder layer: transform last element of tuple, duplicate it and downsample one copy\n",
    "- Bridge layer: transform last element of tuple\n",
    "- Decoder layer: upsample last element of tuple, add it up with the pre-last, transform result"
   ]
  },
  {
   "cell_type": "code",
   "execution_count": 2,
   "metadata": {},
   "outputs": [],
   "source": [
    "from torch import nn\n",
    "import torch\n",
    "\n",
    "from pytorch_toolz.functools import Reduce, Parallel\n",
    "from pytorch_toolz.itertools import Slice, Chain\n",
    "from pytorch_toolz.operator import ItemGetter, Apply"
   ]
  },
  {
   "cell_type": "code",
   "execution_count": 34,
   "metadata": {},
   "outputs": [],
   "source": [
    "def conv_block(in_ch, out_ch):\n",
    "    return nn.Sequential(\n",
    "        nn.BatchNorm2d(in_ch),\n",
    "        nn.ReLU(),\n",
    "        nn.Conv2d(in_ch, out_ch, kernel_size=3, padding='same')\n",
    "    )\n",
    "\n",
    "\n",
    "def downsampling(in_ch, out_ch):\n",
    "    return nn.Conv2d(in_ch, out_ch, kernel_size=2, stride=2)\n",
    "\n",
    "\n",
    "def upsampling(in_ch, out_ch):\n",
    "    return nn.ConvTranspose2d(in_ch, out_ch, kernel_size=2, stride=2)\n",
    "\n",
    "\n",
    "def res_block(in_ch, out_ch):\n",
    "    return nn.Sequential(\n",
    "        Parallel(\n",
    "            nn.Sequential(\n",
    "                conv_block(in_ch, in_ch // 4),\n",
    "                conv_block(in_ch // 4, out_ch)\n",
    "            ),\n",
    "            nn.Identity()\n",
    "        ),\n",
    "        Reduce(torch.add)\n",
    "    )\n",
    "\n",
    "\n",
    "def encoder_layer(in_ch, out_ch):\n",
    "    return nn.Sequential(\n",
    "        Parallel(\n",
    "            Slice(-1),\n",
    "            nn.Sequential(\n",
    "                ItemGetter(-1),\n",
    "                *[res_block(in_ch, in_ch)] * 3,\n",
    "                Parallel(\n",
    "                    nn.Identity(),\n",
    "                    downsampling(in_ch, out_ch)\n",
    "                )\n",
    "            ),\n",
    "        ),\n",
    "        Chain()\n",
    "    )\n",
    "\n",
    "\n",
    "def bridge_block(ch):\n",
    "    return nn.Sequential(\n",
    "        Parallel(\n",
    "            Slice(-1),\n",
    "            nn.Sequential(\n",
    "                ItemGetter(-1),\n",
    "                res_block(ch, ch),\n",
    "                Parallel(nn.Identity())\n",
    "            ),\n",
    "        ),\n",
    "        Chain()\n",
    "    )\n",
    "\n",
    "\n",
    "def decoder_layer(in_ch, out_ch):\n",
    "    return nn.Sequential(\n",
    "        Parallel(\n",
    "            Slice(-2),\n",
    "            nn.Sequential(\n",
    "                Parallel(\n",
    "                    nn.Sequential(\n",
    "                        ItemGetter(-1),\n",
    "                        upsampling(in_ch, out_ch)\n",
    "                    ),\n",
    "                    ItemGetter(-2)\n",
    "                ),\n",
    "                Reduce(torch.add),\n",
    "                *[res_block(out_ch, out_ch)] * 3,\n",
    "                Parallel(nn.Identity())\n",
    "            ),\n",
    "        ),\n",
    "        Chain(),\n",
    "    )\n",
    "\n",
    "unet = nn.Sequential(\n",
    "    Parallel(nn.Identity()),\n",
    "    encoder_layer(8, 16),\n",
    "    encoder_layer(16, 32),\n",
    "    bridge_block(32),\n",
    "    bridge_block(32),\n",
    "    decoder_layer(32, 16),\n",
    "    decoder_layer(16, 8),\n",
    "    ItemGetter(0)\n",
    ")"
   ]
  },
  {
   "attachments": {},
   "cell_type": "markdown",
   "metadata": {},
   "source": [
    "Basic test, to check that shapes match."
   ]
  },
  {
   "cell_type": "code",
   "execution_count": 35,
   "metadata": {},
   "outputs": [
    {
     "data": {
      "text/plain": [
       "torch.Size([1, 8, 16, 16])"
      ]
     },
     "execution_count": 35,
     "metadata": {},
     "output_type": "execute_result"
    }
   ],
   "source": [
    "unet(torch.randn((1, 8, 16, 16))).shape"
   ]
  }
 ],
 "metadata": {
  "kernelspec": {
   "display_name": "base",
   "language": "python",
   "name": "python3"
  },
  "language_info": {
   "codemirror_mode": {
    "name": "ipython",
    "version": 3
   },
   "file_extension": ".py",
   "mimetype": "text/x-python",
   "name": "python",
   "nbconvert_exporter": "python",
   "pygments_lexer": "ipython3",
   "version": "3.9.12"
  },
  "orig_nbformat": 4
 },
 "nbformat": 4,
 "nbformat_minor": 2
}
